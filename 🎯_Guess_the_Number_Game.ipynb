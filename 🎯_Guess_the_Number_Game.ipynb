{
  "nbformat": 4,
  "nbformat_minor": 0,
  "metadata": {
    "colab": {
      "provenance": []
    },
    "kernelspec": {
      "name": "python3",
      "display_name": "Python 3"
    },
    "language_info": {
      "name": "python"
    }
  },
  "cells": [
    {
      "cell_type": "code",
      "execution_count": null,
      "metadata": {
        "colab": {
          "base_uri": "https://localhost:8080/"
        },
        "id": "rxyVXTqHyI8f",
        "outputId": "cc0c0f11-c21d-4320-d7ab-9aaaf206db32"
      },
      "outputs": [
        {
          "output_type": "stream",
          "name": "stdout",
          "text": [
            "\n",
            "🎯 Welcome to the Guess the Number Game! 🎯\n",
            "I've selected a number between 1 and 50. Try to guess it!\n",
            "\n"
          ]
        }
      ],
      "source": [
        "import random\n",
        "\n",
        "# 🎲 Generate a random number between 1 and 100\n",
        "secret_number = random.randint(1,50)\n",
        "\n",
        "# 👤 Initialize user guess\n",
        "guess = None\n",
        "attempts = 0\n",
        "\n",
        "print(\"\\n🎯 Welcome to the Guess the Number Game! 🎯\")\n",
        "print(\"I've selected a number between 1 and 50. Try to guess it!\\n\")\n",
        "\n",
        "# 🔄 Game Loop\n",
        "while guess != secret_number:\n",
        "    try:\n",
        "        guess = int(input(\"Enter your guess: \"))  # User input\n",
        "        attempts += 1  # Count attempts\n",
        "\n",
        "        if guess < secret_number:\n",
        "            print(\"📉 Too low! Try again.\")\n",
        "        elif guess > secret_number:\n",
        "            print(\"📈 Too high! Try again.\")\n",
        "        else:\n",
        "            print(f\"🎉 Congratulations! You guessed the number in {attempts} attempts.\")\n",
        "\n",
        "    except ValueError:\n",
        "        print(\"❌ Please enter a valid number!\")\n",
        "\n",
        "# ✅ Game Over Message\n",
        "print(\"\\nThanks for playing! Have a great day! 🚀\")\n"
      ]
    }
  ]
}